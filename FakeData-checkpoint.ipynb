{
 "cells": [
  {
   "cell_type": "code",
   "execution_count": 19,
   "id": "5bfa1cbc",
   "metadata": {},
   "outputs": [
    {
     "name": "stderr",
     "output_type": "stream",
     "text": [
      "C:\\Users\\Satish\\AppData\\Local\\Temp\\ipykernel_24684\\3207539432.py:11: DeprecationWarning: executable_path has been deprecated, please pass in a Service object\n",
      "  driver = webdriver.Chrome(path)\n"
     ]
    }
   ],
   "source": [
    "from selenium import webdriver \n",
    "import os\n",
    "import time\n",
    "from selenium.webdriver.common.by import By\n",
    "import pandas as pd\n",
    "from selenium.webdriver.support.ui import WebDriverWait\n",
    "from selenium.common.exceptions import NoSuchElementException\n",
    "\n",
    "def startBot(username, password, url):\n",
    "    path = r\"C:\\Users\\Satish\\Downloads\\chrome\\chromedriver-win64\\chromedriver.exe\"\n",
    "    driver = webdriver.Chrome(path)\n",
    "    driver.get(url)\n",
    "    time.sleep(5)\n",
    "    driver.find_element(\"name\",\"source\").send_keys(username)\n",
    "    driver.find_element(By.CLASS_NAME,\"button\").click()\n",
    "    time.sleep(4)\n",
    "    driver.find_element(\"name\",\"password\").send_keys(password)\n",
    "    driver.find_element(By.CLASS_NAME,\"button\").click()\n",
    "    Name, Designation, Company, Location = [],[],[],[]\n",
    "    for pagination in range(1,122):\n",
    "        time.sleep(5)\n",
    "        driver.get(f\"https://councils.forbes.com/v2/members?p={pagination}\")\n",
    "        driver.implicitly_wait(6)\n",
    "        for i in range(1,25):\n",
    "            try:\n",
    "                Name.append(driver.find_element(By.CSS_SELECTOR,f'#main-content > div:nth-child(5) > div:nth-child({i}) > div > a > h6').text)\n",
    "            except NoSuchElementException:\n",
    "                Name.append(\"No\")\n",
    "            except AttributeError:\n",
    "                Name.append(\"No\")\n",
    "            try:\n",
    "                Designation.append(driver.find_element(By.CSS_SELECTOR,f'#main-content > div:nth-child(5) > div:nth-child({i}) > div > a > div.MuiBox-root.css-146i0gf > div:nth-child(1) > h6').text)\n",
    "            except NoSuchElementException:\n",
    "                Designation.append(\"No\")\n",
    "            try:\n",
    "                Company.append(driver.find_element(By.CSS_SELECTOR,f'#main-content > div:nth-child(5) > div:nth-child({i}) > div > a > div.MuiBox-root.css-146i0gf > div:nth-child(2) > h6').text)\n",
    "            except NoSuchElementException:\n",
    "                Company.append(driver.find_element(By.CSS_SELECTOR,f'#main-content > div:nth-child(5) > div:nth-child({i}) > div > a > div.MuiBox-root.css-146i0gf > div > h6').text)\n",
    "            except AttributeError:\n",
    "                Company.append(\"No\")\n",
    "            try:\n",
    "                Location.append(driver.find_element(By.CSS_SELECTOR,f'#main-content > div:nth-child(5) > div:nth-child({i}) > div > a > div.MuiBox-root.css-171onha > h6').text)\n",
    "            except NoSuchElementException:\n",
    "                Location.append(\"No\")\n",
    "    data = {\n",
    "            'Name': Name,\n",
    "            'Designation': Designation,\n",
    "            'Location': Location,\n",
    "            'Company': Company\n",
    "        }\n",
    "    df = pd.DataFrame(data)\n",
    "    df.to_csv(\"akmdatafinal.csv\", mode='a', index=False)\n",
    "username = \"deepak@thesagenext.com\"\n",
    "password = \"Tvnrl@349\"\n",
    "url = \"https://councils.forbes.com/v2/members\"\n",
    "\n",
    "akmdatafinal = startBot(username, password, url)\n",
    "\n"
   ]
  },
  {
   "cell_type": "code",
   "execution_count": null,
   "id": "c24aab3c",
   "metadata": {},
   "outputs": [],
   "source": []
  }
 ],
 "metadata": {
  "kernelspec": {
   "display_name": "Python 3 (ipykernel)",
   "language": "python",
   "name": "python3"
  },
  "language_info": {
   "codemirror_mode": {
    "name": "ipython",
    "version": 3
   },
   "file_extension": ".py",
   "mimetype": "text/x-python",
   "name": "python",
   "nbconvert_exporter": "python",
   "pygments_lexer": "ipython3",
   "version": "3.9.13"
  }
 },
 "nbformat": 4,
 "nbformat_minor": 5
}
