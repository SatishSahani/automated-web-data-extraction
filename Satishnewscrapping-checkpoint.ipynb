{
 "cells": [
  {
   "cell_type": "code",
   "execution_count": 2,
   "id": "98eeb3f4",
   "metadata": {},
   "outputs": [
    {
     "name": "stderr",
     "output_type": "stream",
     "text": [
      "C:\\Users\\Satish\\AppData\\Local\\Temp\\ipykernel_5144\\437970428.py:11: DeprecationWarning: executable_path has been deprecated, please pass in a Service object\n",
      "  driver = webdriver.Chrome(path)\n"
     ]
    },
    {
     "ename": "AttributeError",
     "evalue": "'NoneType' object has no attribute 'text'",
     "output_type": "error",
     "traceback": [
      "\u001b[1;31m---------------------------------------------------------------------------\u001b[0m",
      "\u001b[1;31mNoSuchElementException\u001b[0m                    Traceback (most recent call last)",
      "\u001b[1;32m~\\AppData\\Local\\Temp\\ipykernel_5144\\437970428.py\u001b[0m in \u001b[0;36mstartBot\u001b[1;34m(username, password, url)\u001b[0m\n\u001b[0;32m     37\u001b[0m             \u001b[1;32mtry\u001b[0m\u001b[1;33m:\u001b[0m\u001b[1;33m\u001b[0m\u001b[1;33m\u001b[0m\u001b[0m\n\u001b[1;32m---> 38\u001b[1;33m                 \u001b[0mCompany\u001b[0m\u001b[1;33m.\u001b[0m\u001b[0mappend\u001b[0m\u001b[1;33m(\u001b[0m\u001b[0mdriver\u001b[0m\u001b[1;33m.\u001b[0m\u001b[0mfind_element\u001b[0m\u001b[1;33m(\u001b[0m\u001b[0mBy\u001b[0m\u001b[1;33m.\u001b[0m\u001b[0mCSS_SELECTOR\u001b[0m\u001b[1;33m,\u001b[0m\u001b[1;34mf'#main-content > div:nth-child(5) > div:nth-child({i}) > div > a > div.MuiBox-root.css-146i0gf > div:nth-child(2) > h6'\u001b[0m\u001b[1;33m)\u001b[0m\u001b[1;33m.\u001b[0m\u001b[0mtext\u001b[0m\u001b[1;33m)\u001b[0m\u001b[1;33m\u001b[0m\u001b[1;33m\u001b[0m\u001b[0m\n\u001b[0m\u001b[0;32m     39\u001b[0m             \u001b[1;32mexcept\u001b[0m \u001b[0mNoSuchElementException\u001b[0m\u001b[1;33m:\u001b[0m\u001b[1;33m\u001b[0m\u001b[1;33m\u001b[0m\u001b[0m\n",
      "\u001b[1;32m~\\Anaconda3\\lib\\site-packages\\selenium\\webdriver\\remote\\webdriver.py\u001b[0m in \u001b[0;36mfind_element\u001b[1;34m(self, by, value)\u001b[0m\n\u001b[0;32m    860\u001b[0m \u001b[1;33m\u001b[0m\u001b[0m\n\u001b[1;32m--> 861\u001b[1;33m         \u001b[1;32mreturn\u001b[0m \u001b[0mself\u001b[0m\u001b[1;33m.\u001b[0m\u001b[0mexecute\u001b[0m\u001b[1;33m(\u001b[0m\u001b[0mCommand\u001b[0m\u001b[1;33m.\u001b[0m\u001b[0mFIND_ELEMENT\u001b[0m\u001b[1;33m,\u001b[0m \u001b[1;33m{\u001b[0m\u001b[1;34m\"using\"\u001b[0m\u001b[1;33m:\u001b[0m \u001b[0mby\u001b[0m\u001b[1;33m,\u001b[0m \u001b[1;34m\"value\"\u001b[0m\u001b[1;33m:\u001b[0m \u001b[0mvalue\u001b[0m\u001b[1;33m}\u001b[0m\u001b[1;33m)\u001b[0m\u001b[1;33m[\u001b[0m\u001b[1;34m\"value\"\u001b[0m\u001b[1;33m]\u001b[0m\u001b[1;33m\u001b[0m\u001b[1;33m\u001b[0m\u001b[0m\n\u001b[0m\u001b[0;32m    862\u001b[0m \u001b[1;33m\u001b[0m\u001b[0m\n",
      "\u001b[1;32m~\\Anaconda3\\lib\\site-packages\\selenium\\webdriver\\remote\\webdriver.py\u001b[0m in \u001b[0;36mexecute\u001b[1;34m(self, driver_command, params)\u001b[0m\n\u001b[0;32m    443\u001b[0m         \u001b[1;32mif\u001b[0m \u001b[0mresponse\u001b[0m\u001b[1;33m:\u001b[0m\u001b[1;33m\u001b[0m\u001b[1;33m\u001b[0m\u001b[0m\n\u001b[1;32m--> 444\u001b[1;33m             \u001b[0mself\u001b[0m\u001b[1;33m.\u001b[0m\u001b[0merror_handler\u001b[0m\u001b[1;33m.\u001b[0m\u001b[0mcheck_response\u001b[0m\u001b[1;33m(\u001b[0m\u001b[0mresponse\u001b[0m\u001b[1;33m)\u001b[0m\u001b[1;33m\u001b[0m\u001b[1;33m\u001b[0m\u001b[0m\n\u001b[0m\u001b[0;32m    445\u001b[0m             \u001b[0mresponse\u001b[0m\u001b[1;33m[\u001b[0m\u001b[1;34m\"value\"\u001b[0m\u001b[1;33m]\u001b[0m \u001b[1;33m=\u001b[0m \u001b[0mself\u001b[0m\u001b[1;33m.\u001b[0m\u001b[0m_unwrap_value\u001b[0m\u001b[1;33m(\u001b[0m\u001b[0mresponse\u001b[0m\u001b[1;33m.\u001b[0m\u001b[0mget\u001b[0m\u001b[1;33m(\u001b[0m\u001b[1;34m\"value\"\u001b[0m\u001b[1;33m,\u001b[0m \u001b[1;32mNone\u001b[0m\u001b[1;33m)\u001b[0m\u001b[1;33m)\u001b[0m\u001b[1;33m\u001b[0m\u001b[1;33m\u001b[0m\u001b[0m\n",
      "\u001b[1;32m~\\Anaconda3\\lib\\site-packages\\selenium\\webdriver\\remote\\errorhandler.py\u001b[0m in \u001b[0;36mcheck_response\u001b[1;34m(self, response)\u001b[0m\n\u001b[0;32m    248\u001b[0m             \u001b[1;32mraise\u001b[0m \u001b[0mexception_class\u001b[0m\u001b[1;33m(\u001b[0m\u001b[0mmessage\u001b[0m\u001b[1;33m,\u001b[0m \u001b[0mscreen\u001b[0m\u001b[1;33m,\u001b[0m \u001b[0mstacktrace\u001b[0m\u001b[1;33m,\u001b[0m \u001b[0malert_text\u001b[0m\u001b[1;33m)\u001b[0m  \u001b[1;31m# type: ignore[call-arg]  # mypy is not smart enough here\u001b[0m\u001b[1;33m\u001b[0m\u001b[1;33m\u001b[0m\u001b[0m\n\u001b[1;32m--> 249\u001b[1;33m         \u001b[1;32mraise\u001b[0m \u001b[0mexception_class\u001b[0m\u001b[1;33m(\u001b[0m\u001b[0mmessage\u001b[0m\u001b[1;33m,\u001b[0m \u001b[0mscreen\u001b[0m\u001b[1;33m,\u001b[0m \u001b[0mstacktrace\u001b[0m\u001b[1;33m)\u001b[0m\u001b[1;33m\u001b[0m\u001b[1;33m\u001b[0m\u001b[0m\n\u001b[0m",
      "\u001b[1;31mNoSuchElementException\u001b[0m: Message: no such element: Unable to locate element: {\"method\":\"css selector\",\"selector\":\"#main-content > div:nth-child(5) > div:nth-child(23) > div > a > div.MuiBox-root.css-146i0gf > div:nth-child(2) > h6\"}\n  (Session info: chrome=118.0.5993.71)\nStacktrace:\n\tGetHandleVerifier [0x00007FF6AFC28EF2+54786]\n\t(No symbol) [0x00007FF6AFB95612]\n\t(No symbol) [0x00007FF6AFA4A64B]\n\t(No symbol) [0x00007FF6AFA8B79C]\n\t(No symbol) [0x00007FF6AFA8B91C]\n\t(No symbol) [0x00007FF6AFAC6D87]\n\t(No symbol) [0x00007FF6AFAABEAF]\n\t(No symbol) [0x00007FF6AFAC4D02]\n\t(No symbol) [0x00007FF6AFAABC43]\n\t(No symbol) [0x00007FF6AFA80941]\n\t(No symbol) [0x00007FF6AFA81B84]\n\tGetHandleVerifier [0x00007FF6AFF77F52+3524194]\n\tGetHandleVerifier [0x00007FF6AFFCD800+3874576]\n\tGetHandleVerifier [0x00007FF6AFFC5D7F+3843215]\n\tGetHandleVerifier [0x00007FF6AFCC5086+694166]\n\t(No symbol) [0x00007FF6AFBA0A88]\n\t(No symbol) [0x00007FF6AFB9CA94]\n\t(No symbol) [0x00007FF6AFB9CBC2]\n\t(No symbol) [0x00007FF6AFB8CC83]\n\tBaseThreadInitThunk [0x00007FFEC8D5257D+29]\n\tRtlUserThreadStart [0x00007FFEC8FCAA78+40]\n",
      "\nDuring handling of the above exception, another exception occurred:\n",
      "\u001b[1;31mAttributeError\u001b[0m                            Traceback (most recent call last)",
      "\u001b[1;32m~\\AppData\\Local\\Temp\\ipykernel_5144\\437970428.py\u001b[0m in \u001b[0;36m<module>\u001b[1;34m\u001b[0m\n\u001b[0;32m     62\u001b[0m \u001b[0murl\u001b[0m \u001b[1;33m=\u001b[0m \u001b[1;34m\"https://councils.forbes.com/v2/members\"\u001b[0m\u001b[1;33m\u001b[0m\u001b[1;33m\u001b[0m\u001b[0m\n\u001b[0;32m     63\u001b[0m \u001b[1;33m\u001b[0m\u001b[0m\n\u001b[1;32m---> 64\u001b[1;33m \u001b[0makmdatafinal\u001b[0m \u001b[1;33m=\u001b[0m \u001b[0mstartBot\u001b[0m\u001b[1;33m(\u001b[0m\u001b[0musername\u001b[0m\u001b[1;33m,\u001b[0m \u001b[0mpassword\u001b[0m\u001b[1;33m,\u001b[0m \u001b[0murl\u001b[0m\u001b[1;33m)\u001b[0m\u001b[1;33m\u001b[0m\u001b[1;33m\u001b[0m\u001b[0m\n\u001b[0m\u001b[0;32m     65\u001b[0m \u001b[1;33m\u001b[0m\u001b[0m\n",
      "\u001b[1;32m~\\AppData\\Local\\Temp\\ipykernel_5144\\437970428.py\u001b[0m in \u001b[0;36mstartBot\u001b[1;34m(username, password, url)\u001b[0m\n\u001b[0;32m     39\u001b[0m             \u001b[1;32mexcept\u001b[0m \u001b[0mNoSuchElementException\u001b[0m\u001b[1;33m:\u001b[0m\u001b[1;33m\u001b[0m\u001b[1;33m\u001b[0m\u001b[0m\n\u001b[0;32m     40\u001b[0m                 \u001b[1;32mtry\u001b[0m\u001b[1;33m:\u001b[0m\u001b[1;33m\u001b[0m\u001b[1;33m\u001b[0m\u001b[0m\n\u001b[1;32m---> 41\u001b[1;33m                     \u001b[0mCompany\u001b[0m\u001b[1;33m.\u001b[0m\u001b[0mappend\u001b[0m\u001b[1;33m(\u001b[0m\u001b[0mdriver\u001b[0m\u001b[1;33m.\u001b[0m\u001b[0mfind_element\u001b[0m\u001b[1;33m(\u001b[0m\u001b[0mBy\u001b[0m\u001b[1;33m.\u001b[0m\u001b[0mCSS_SELECTOR\u001b[0m\u001b[1;33m,\u001b[0m\u001b[1;34mf'#main-content > div:nth-child(5) > div:nth-child({i}) > div > a > div.MuiBox-root.css-146i0gf > div > h6'\u001b[0m\u001b[1;33m)\u001b[0m\u001b[1;33m.\u001b[0m\u001b[0mtext\u001b[0m\u001b[1;33m)\u001b[0m\u001b[1;33m\u001b[0m\u001b[1;33m\u001b[0m\u001b[0m\n\u001b[0m\u001b[0;32m     42\u001b[0m                 \u001b[1;32mexcept\u001b[0m \u001b[0mNoSuchElementException\u001b[0m\u001b[1;33m:\u001b[0m\u001b[1;33m\u001b[0m\u001b[1;33m\u001b[0m\u001b[0m\n\u001b[0;32m     43\u001b[0m                     \u001b[0mCompany\u001b[0m\u001b[1;33m.\u001b[0m\u001b[0mappend\u001b[0m\u001b[1;33m(\u001b[0m\u001b[1;34m\"No\"\u001b[0m\u001b[1;33m)\u001b[0m\u001b[1;33m\u001b[0m\u001b[1;33m\u001b[0m\u001b[0m\n",
      "\u001b[1;31mAttributeError\u001b[0m: 'NoneType' object has no attribute 'text'"
     ]
    }
   ],
   "source": [
    "from selenium import webdriver \n",
    "import os\n",
    "import time\n",
    "from selenium.webdriver.common.by import By\n",
    "import pandas as pd\n",
    "from selenium.webdriver.support.ui import WebDriverWait\n",
    "from selenium.common.exceptions import NoSuchElementException\n",
    "\n",
    "def startBot(username, password, url):\n",
    "    path = r\"C:\\Users\\Satish\\Downloads\\chrome\\chromedriver-win64\\chromedriver.exe\"\n",
    "    driver = webdriver.Chrome(path)\n",
    "    driver.get(url)\n",
    "    time.sleep(5)\n",
    "    driver.find_element(\"name\",\"source\").send_keys(username)\n",
    "    driver.find_element(By.CLASS_NAME,\"button\").click()\n",
    "    time.sleep(4)\n",
    "    driver.find_element(\"name\",\"password\").send_keys(password)\n",
    "    driver.find_element(By.CLASS_NAME,\"button\").click()\n",
    "    Name, Designation, Company, Location = [],[],[],[]\n",
    "    for pagination in range(122,147):\n",
    "        time.sleep(5)\n",
    "        driver.get(f\"https://councils.forbes.com/v2/members?p={pagination}\")\n",
    "        driver.implicitly_wait(6)\n",
    "        for i in range(1,25):\n",
    "            try:\n",
    "                Name.append(driver.find_element(By.CSS_SELECTOR,f'#main-content > div:nth-child(5) > div:nth-child({i}) > div > a > h6').text)\n",
    "            except NoSuchElementException:\n",
    "                Name.append(\"No\")\n",
    "            except AttributeError:\n",
    "                Name.append(\"No\")\n",
    "            try:\n",
    "                Designation.append(driver.find_element(By.CSS_SELECTOR,f'#main-content > div:nth-child(5) > div:nth-child({i}) > div > a > div.MuiBox-root.css-146i0gf > div:nth-child(1) > h6').text)\n",
    "            except NoSuchElementException:\n",
    "                Designation.append(\"No\")\n",
    "            except AttributeError:\n",
    "                Designation.append(\"No\")\n",
    "            try:\n",
    "                Company.append(driver.find_element(By.CSS_SELECTOR,f'#main-content > div:nth-child(5) > div:nth-child({i}) > div > a > div.MuiBox-root.css-146i0gf > div:nth-child(2) > h6').text)\n",
    "            except NoSuchElementException:\n",
    "                try:\n",
    "                    Company.append(driver.find_element(By.CSS_SELECTOR,f'#main-content > div:nth-child(5) > div:nth-child({i}) > div > a > div.MuiBox-root.css-146i0gf > div > h6').text)\n",
    "                except NoSuchElementException:\n",
    "                    Company.append(\"No\")\n",
    "                except AttributeError:\n",
    "                    Company.append(\"No\")\n",
    "            except AttributeError:\n",
    "                Company.append(\"No\")\n",
    "            try:\n",
    "                Location.append(driver.find_element(By.CSS_SELECTOR,f'#main-content > div:nth-child(5) > div:nth-child({i}) > div > a > div.MuiBox-root.css-171onha > h6').text)\n",
    "            except NoSuchElementException:\n",
    "                Location.append(\"No\")\n",
    "            except AttributeError:\n",
    "                Location.append(\"No\")\n",
    "    data = {\n",
    "            'Name': Name,\n",
    "            'Designation': Designation,\n",
    "            'Location': Location,\n",
    "            'Company': Company\n",
    "        }\n",
    "    df = pd.DataFrame(data)\n",
    "    df.to_csv(\"akmdatafinal.csv\", mode='a', index=False)\n",
    "username = \"deepak@thesagenext.com\"\n",
    "password = \"Tvnrl@349\"\n",
    "url = \"https://councils.forbes.com/v2/members\"\n",
    "\n",
    "akmdatafinal = startBot(username, password, url)\n",
    "\n"
   ]
  },
  {
   "cell_type": "code",
   "execution_count": null,
   "id": "d7153ecf",
   "metadata": {},
   "outputs": [],
   "source": []
  }
 ],
 "metadata": {
  "kernelspec": {
   "display_name": "Python 3 (ipykernel)",
   "language": "python",
   "name": "python3"
  },
  "language_info": {
   "codemirror_mode": {
    "name": "ipython",
    "version": 3
   },
   "file_extension": ".py",
   "mimetype": "text/x-python",
   "name": "python",
   "nbconvert_exporter": "python",
   "pygments_lexer": "ipython3",
   "version": "3.9.13"
  }
 },
 "nbformat": 4,
 "nbformat_minor": 5
}
